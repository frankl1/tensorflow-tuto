{
 "cells": [
  {
   "cell_type": "code",
   "execution_count": 87,
   "metadata": {},
   "outputs": [],
   "source": [
    "import tensorflow as tf\n",
    "from tensorflow import keras"
   ]
  },
  {
   "cell_type": "code",
   "execution_count": 88,
   "metadata": {},
   "outputs": [
    {
     "data": {
      "text/plain": [
       "'1.10.0'"
      ]
     },
     "execution_count": 88,
     "metadata": {},
     "output_type": "execute_result"
    }
   ],
   "source": [
    "tf.__version__"
   ]
  },
  {
   "cell_type": "code",
   "execution_count": 89,
   "metadata": {},
   "outputs": [],
   "source": [
    "imdb = keras.datasets.imdb\n",
    "(train_data, train_labels), (test_data, test_label) = imdb.load_data(num_words=10000)"
   ]
  },
  {
   "cell_type": "code",
   "execution_count": 90,
   "metadata": {},
   "outputs": [
    {
     "name": "stdout",
     "output_type": "stream",
     "text": [
      "Training entries: 25000, labels: 25000\n"
     ]
    }
   ],
   "source": [
    "print(\"Training entries: {}, labels: {}\".format(len(train_data), len(train_labels)))"
   ]
  },
  {
   "cell_type": "code",
   "execution_count": 91,
   "metadata": {},
   "outputs": [
    {
     "name": "stdout",
     "output_type": "stream",
     "text": [
      "[1, 14, 22, 16, 43, 530, 973, 1622, 1385, 65, 458, 4468, 66, 3941, 4, 173, 36, 256, 5, 25, 100, 43, 838, 112, 50, 670, 2, 9, 35, 480, 284, 5, 150, 4, 172, 112, 167, 2, 336, 385, 39, 4, 172, 4536, 1111, 17, 546, 38, 13, 447, 4, 192, 50, 16, 6, 147, 2025, 19, 14, 22, 4, 1920, 4613, 469, 4, 22, 71, 87, 12, 16, 43, 530, 38, 76, 15, 13, 1247, 4, 22, 17, 515, 17, 12, 16, 626, 18, 2, 5, 62, 386, 12, 8, 316, 8, 106, 5, 4, 2223, 5244, 16, 480, 66, 3785, 33, 4, 130, 12, 16, 38, 619, 5, 25, 124, 51, 36, 135, 48, 25, 1415, 33, 6, 22, 12, 215, 28, 77, 52, 5, 14, 407, 16, 82, 2, 8, 4, 107, 117, 5952, 15, 256, 4, 2, 7, 3766, 5, 723, 36, 71, 43, 530, 476, 26, 400, 317, 46, 7, 4, 2, 1029, 13, 104, 88, 4, 381, 15, 297, 98, 32, 2071, 56, 26, 141, 6, 194, 7486, 18, 4, 226, 22, 21, 134, 476, 26, 480, 5, 144, 30, 5535, 18, 51, 36, 28, 224, 92, 25, 104, 4, 226, 65, 16, 38, 1334, 88, 12, 16, 283, 5, 16, 4472, 113, 103, 32, 15, 16, 5345, 19, 178, 32]\n"
     ]
    }
   ],
   "source": [
    "print(train_data[0])"
   ]
  },
  {
   "cell_type": "code",
   "execution_count": 92,
   "metadata": {},
   "outputs": [
    {
     "data": {
      "text/plain": [
       "(218, 189)"
      ]
     },
     "execution_count": 92,
     "metadata": {},
     "output_type": "execute_result"
    }
   ],
   "source": [
    "len(train_data[0]), len(train_data[1])"
   ]
  },
  {
   "cell_type": "code",
   "execution_count": 93,
   "metadata": {},
   "outputs": [],
   "source": [
    "word2index = imdb.get_word_index()"
   ]
  },
  {
   "cell_type": "code",
   "execution_count": 94,
   "metadata": {},
   "outputs": [],
   "source": [
    "word2index = {k:(v+3) for k, v in word2index.items()}\n",
    "word2index[\"<PAD>\"] = 0\n",
    "word2index[\"<START>\"] = 1\n",
    "word2index[\"<UNK>\"] = 2  # unknown\n",
    "word2index[\"<UNUSED>\"] = 3\n",
    "index2word = {v:k for k, v in word2index.items()}"
   ]
  },
  {
   "cell_type": "code",
   "execution_count": 95,
   "metadata": {},
   "outputs": [],
   "source": [
    "def decode_review(review):\n",
    "    return ' '.join([index2word.get(i, '?') for i in review])"
   ]
  },
  {
   "cell_type": "code",
   "execution_count": 96,
   "metadata": {},
   "outputs": [
    {
     "data": {
      "text/plain": [
       "\"<START> this film was just brilliant casting location scenery story direction everyone's really suited the part they played and you could just imagine being there robert <UNK> is an amazing actor and now the same being director <UNK> father came from the same scottish island as myself so i loved the fact there was a real connection with this film the witty remarks throughout the film were great it was just brilliant so much that i bought the film as soon as it was released for <UNK> and would recommend it to everyone to watch and the fly fishing was amazing really cried at the end it was so sad and you know what they say if you cry at a film it must have been good and this definitely was also <UNK> to the two little boy's that played the <UNK> of norman and paul they were just brilliant children are often left out of the <UNK> list i think because the stars that play them all grown up are such a big profile for the whole film but these children are amazing and should be praised for what they have done don't you think the whole story was so lovely because it was true and was someone's life after all that was shared with us all\""
      ]
     },
     "execution_count": 96,
     "metadata": {},
     "output_type": "execute_result"
    }
   ],
   "source": [
    "decode_review(train_data[0])"
   ]
  },
  {
   "cell_type": "code",
   "execution_count": 97,
   "metadata": {},
   "outputs": [],
   "source": [
    "train_data = keras.preprocessing.sequence.pad_sequences(train_data,\n",
    "                                                       value=word2index['<PAD>'],\n",
    "                                                       padding='post',\n",
    "                                                       maxlen=256)\n",
    "test_data = keras.preprocessing.sequence.pad_sequences(test_data,\n",
    "                                                      value=word2index['<PAD>'],\n",
    "                                                      padding='post',\n",
    "                                                      maxlen=256)"
   ]
  },
  {
   "cell_type": "code",
   "execution_count": 98,
   "metadata": {},
   "outputs": [
    {
     "data": {
      "text/plain": [
       "(256, 256)"
      ]
     },
     "execution_count": 98,
     "metadata": {},
     "output_type": "execute_result"
    }
   ],
   "source": [
    "len(train_data[0]), len(train_data[1])"
   ]
  },
  {
   "cell_type": "code",
   "execution_count": 99,
   "metadata": {},
   "outputs": [
    {
     "name": "stdout",
     "output_type": "stream",
     "text": [
      "[   1   14   22   16   43  530  973 1622 1385   65  458 4468   66 3941\n",
      "    4  173   36  256    5   25  100   43  838  112   50  670    2    9\n",
      "   35  480  284    5  150    4  172  112  167    2  336  385   39    4\n",
      "  172 4536 1111   17  546   38   13  447    4  192   50   16    6  147\n",
      " 2025   19   14   22    4 1920 4613  469    4   22   71   87   12   16\n",
      "   43  530   38   76   15   13 1247    4   22   17  515   17   12   16\n",
      "  626   18    2    5   62  386   12    8  316    8  106    5    4 2223\n",
      " 5244   16  480   66 3785   33    4  130   12   16   38  619    5   25\n",
      "  124   51   36  135   48   25 1415   33    6   22   12  215   28   77\n",
      "   52    5   14  407   16   82    2    8    4  107  117 5952   15  256\n",
      "    4    2    7 3766    5  723   36   71   43  530  476   26  400  317\n",
      "   46    7    4    2 1029   13  104   88    4  381   15  297   98   32\n",
      " 2071   56   26  141    6  194 7486   18    4  226   22   21  134  476\n",
      "   26  480    5  144   30 5535   18   51   36   28  224   92   25  104\n",
      "    4  226   65   16   38 1334   88   12   16  283    5   16 4472  113\n",
      "  103   32   15   16 5345   19  178   32    0    0    0    0    0    0\n",
      "    0    0    0    0    0    0    0    0    0    0    0    0    0    0\n",
      "    0    0    0    0    0    0    0    0    0    0    0    0    0    0\n",
      "    0    0    0    0]\n"
     ]
    }
   ],
   "source": [
    "print(train_data[0])"
   ]
  },
  {
   "cell_type": "code",
   "execution_count": 100,
   "metadata": {},
   "outputs": [
    {
     "name": "stdout",
     "output_type": "stream",
     "text": [
      "_________________________________________________________________\n",
      "Layer (type)                 Output Shape              Param #   \n",
      "=================================================================\n",
      "embedding_1 (Embedding)      (None, None, 16)          160000    \n",
      "_________________________________________________________________\n",
      "global_average_pooling1d_1 ( (None, 16)                0         \n",
      "_________________________________________________________________\n",
      "dense_2 (Dense)              (None, 16)                272       \n",
      "_________________________________________________________________\n",
      "dense_3 (Dense)              (None, 1)                 17        \n",
      "=================================================================\n",
      "Total params: 160,289\n",
      "Trainable params: 160,289\n",
      "Non-trainable params: 0\n",
      "_________________________________________________________________\n"
     ]
    }
   ],
   "source": [
    "vocab_size = 10000\n",
    "\n",
    "model = keras.Sequential()\n",
    "model.add(keras.layers.Embedding(vocab_size, 16))\n",
    "model.add(keras.layers.GlobalAveragePooling1D())\n",
    "model.add(keras.layers.Dense(16, activation=tf.nn.relu))\n",
    "model.add(keras.layers.Dense(1, activation=tf.nn.sigmoid))\n",
    "\n",
    "model.summary()"
   ]
  },
  {
   "cell_type": "code",
   "execution_count": 101,
   "metadata": {},
   "outputs": [],
   "source": [
    "model.compile(optimizer=tf.train.AdamOptimizer(),\n",
    "             loss='binary_crossentropy',\n",
    "             metrics=['accuracy'])"
   ]
  },
  {
   "cell_type": "code",
   "execution_count": 102,
   "metadata": {},
   "outputs": [],
   "source": [
    "x_val = train_data[:10000]\n",
    "partial_x_train = train_data[10000:]\n",
    "\n",
    "y_val = train_labels[:10000]\n",
    "partial_y_train = train_labels[10000:]"
   ]
  },
  {
   "cell_type": "code",
   "execution_count": 103,
   "metadata": {},
   "outputs": [
    {
     "name": "stdout",
     "output_type": "stream",
     "text": [
      "Train on 15000 samples, validate on 10000 samples\n",
      "Epoch 1/40\n",
      "15000/15000 [==============================] - 1s 66us/step - loss: 0.7210 - acc: 0.4965 - val_loss: 0.6944 - val_acc: 0.5053\n",
      "Epoch 2/40\n",
      "15000/15000 [==============================] - 1s 51us/step - loss: 0.6925 - acc: 0.5244 - val_loss: 0.6912 - val_acc: 0.5209\n",
      "Epoch 3/40\n",
      "15000/15000 [==============================] - 1s 51us/step - loss: 0.6899 - acc: 0.5758 - val_loss: 0.6894 - val_acc: 0.5976\n",
      "Epoch 4/40\n",
      "15000/15000 [==============================] - 1s 53us/step - loss: 0.6879 - acc: 0.6722 - val_loss: 0.6874 - val_acc: 0.6931\n",
      "Epoch 5/40\n",
      "15000/15000 [==============================] - 1s 53us/step - loss: 0.6857 - acc: 0.6791 - val_loss: 0.6854 - val_acc: 0.7023\n",
      "Epoch 6/40\n",
      "15000/15000 [==============================] - 1s 53us/step - loss: 0.6832 - acc: 0.7507 - val_loss: 0.6828 - val_acc: 0.7483\n",
      "Epoch 7/40\n",
      "15000/15000 [==============================] - 1s 54us/step - loss: 0.6803 - acc: 0.7627 - val_loss: 0.6799 - val_acc: 0.7541\n",
      "Epoch 8/40\n",
      "15000/15000 [==============================] - 1s 53us/step - loss: 0.6767 - acc: 0.7728 - val_loss: 0.6762 - val_acc: 0.7664\n",
      "Epoch 9/40\n",
      "15000/15000 [==============================] - 1s 54us/step - loss: 0.6721 - acc: 0.7841 - val_loss: 0.6716 - val_acc: 0.7703\n",
      "Epoch 10/40\n",
      "15000/15000 [==============================] - 1s 54us/step - loss: 0.6632 - acc: 0.7508 - val_loss: 0.6588 - val_acc: 0.7457\n",
      "Epoch 11/40\n",
      "15000/15000 [==============================] - 1s 54us/step - loss: 0.6498 - acc: 0.7589 - val_loss: 0.6461 - val_acc: 0.7772\n",
      "Epoch 12/40\n",
      "15000/15000 [==============================] - 1s 53us/step - loss: 0.6339 - acc: 0.8025 - val_loss: 0.6306 - val_acc: 0.7836\n",
      "Epoch 13/40\n",
      "15000/15000 [==============================] - 1s 55us/step - loss: 0.6153 - acc: 0.8046 - val_loss: 0.6134 - val_acc: 0.7938\n",
      "Epoch 14/40\n",
      "15000/15000 [==============================] - 1s 55us/step - loss: 0.5942 - acc: 0.8116 - val_loss: 0.5924 - val_acc: 0.8017\n",
      "Epoch 15/40\n",
      "15000/15000 [==============================] - 1s 55us/step - loss: 0.5700 - acc: 0.8189 - val_loss: 0.5689 - val_acc: 0.8061\n",
      "Epoch 16/40\n",
      "15000/15000 [==============================] - 1s 54us/step - loss: 0.5442 - acc: 0.8239 - val_loss: 0.5451 - val_acc: 0.8064\n",
      "Epoch 17/40\n",
      "15000/15000 [==============================] - 1s 54us/step - loss: 0.5166 - acc: 0.8341 - val_loss: 0.5206 - val_acc: 0.8188\n",
      "Epoch 18/40\n",
      "15000/15000 [==============================] - 1s 55us/step - loss: 0.4893 - acc: 0.8419 - val_loss: 0.4961 - val_acc: 0.8243\n",
      "Epoch 19/40\n",
      "15000/15000 [==============================] - 1s 55us/step - loss: 0.4626 - acc: 0.8505 - val_loss: 0.4729 - val_acc: 0.8301\n",
      "Epoch 20/40\n",
      "15000/15000 [==============================] - 1s 55us/step - loss: 0.4376 - acc: 0.8579 - val_loss: 0.4515 - val_acc: 0.8368\n",
      "Epoch 21/40\n",
      "15000/15000 [==============================] - 1s 55us/step - loss: 0.4136 - acc: 0.8671 - val_loss: 0.4314 - val_acc: 0.8435\n",
      "Epoch 22/40\n",
      "15000/15000 [==============================] - 1s 55us/step - loss: 0.3920 - acc: 0.8722 - val_loss: 0.4136 - val_acc: 0.8477\n",
      "Epoch 23/40\n",
      "15000/15000 [==============================] - 1s 55us/step - loss: 0.3726 - acc: 0.8781 - val_loss: 0.3980 - val_acc: 0.8533\n",
      "Epoch 24/40\n",
      "15000/15000 [==============================] - 1s 55us/step - loss: 0.3547 - acc: 0.8835 - val_loss: 0.3839 - val_acc: 0.8555\n",
      "Epoch 25/40\n",
      "15000/15000 [==============================] - 1s 54us/step - loss: 0.3388 - acc: 0.8878 - val_loss: 0.3718 - val_acc: 0.8592\n",
      "Epoch 26/40\n",
      "15000/15000 [==============================] - 1s 55us/step - loss: 0.3246 - acc: 0.8908 - val_loss: 0.3611 - val_acc: 0.8617\n",
      "Epoch 27/40\n",
      "15000/15000 [==============================] - 1s 55us/step - loss: 0.3120 - acc: 0.8925 - val_loss: 0.3518 - val_acc: 0.8643\n",
      "Epoch 28/40\n",
      "15000/15000 [==============================] - 1s 55us/step - loss: 0.3002 - acc: 0.8965 - val_loss: 0.3437 - val_acc: 0.8669\n",
      "Epoch 29/40\n",
      "15000/15000 [==============================] - 1s 55us/step - loss: 0.2896 - acc: 0.9006 - val_loss: 0.3367 - val_acc: 0.8687\n",
      "Epoch 30/40\n",
      "15000/15000 [==============================] - 1s 56us/step - loss: 0.2804 - acc: 0.9009 - val_loss: 0.3305 - val_acc: 0.8706\n",
      "Epoch 31/40\n",
      "15000/15000 [==============================] - 1s 56us/step - loss: 0.2711 - acc: 0.9059 - val_loss: 0.3250 - val_acc: 0.8722\n",
      "Epoch 32/40\n",
      "15000/15000 [==============================] - 1s 56us/step - loss: 0.2632 - acc: 0.9075 - val_loss: 0.3202 - val_acc: 0.8746\n",
      "Epoch 33/40\n",
      "15000/15000 [==============================] - 1s 56us/step - loss: 0.2552 - acc: 0.9101 - val_loss: 0.3161 - val_acc: 0.8746\n",
      "Epoch 34/40\n",
      "15000/15000 [==============================] - 1s 56us/step - loss: 0.2480 - acc: 0.9145 - val_loss: 0.3119 - val_acc: 0.8762\n",
      "Epoch 35/40\n",
      "15000/15000 [==============================] - 1s 56us/step - loss: 0.2416 - acc: 0.9146 - val_loss: 0.3085 - val_acc: 0.8773\n",
      "Epoch 36/40\n",
      "15000/15000 [==============================] - 1s 56us/step - loss: 0.2347 - acc: 0.9181 - val_loss: 0.3055 - val_acc: 0.8780\n",
      "Epoch 37/40\n",
      "15000/15000 [==============================] - 1s 56us/step - loss: 0.2288 - acc: 0.9202 - val_loss: 0.3032 - val_acc: 0.8794\n",
      "Epoch 38/40\n",
      "15000/15000 [==============================] - 1s 56us/step - loss: 0.2231 - acc: 0.9206 - val_loss: 0.3000 - val_acc: 0.8805\n",
      "Epoch 39/40\n",
      "15000/15000 [==============================] - 1s 57us/step - loss: 0.2173 - acc: 0.9247 - val_loss: 0.2980 - val_acc: 0.8818\n",
      "Epoch 40/40\n",
      "15000/15000 [==============================] - 1s 54us/step - loss: 0.2120 - acc: 0.9257 - val_loss: 0.2957 - val_acc: 0.8825\n"
     ]
    }
   ],
   "source": [
    "history = model.fit(partial_x_train,\n",
    "         partial_y_train,\n",
    "         epochs=40,\n",
    "         batch_size=512,\n",
    "         validation_data=(x_val, y_val),\n",
    "         verbose=1)"
   ]
  },
  {
   "cell_type": "code",
   "execution_count": 104,
   "metadata": {},
   "outputs": [
    {
     "name": "stdout",
     "output_type": "stream",
     "text": [
      "25000/25000 [==============================] - 1s 21us/step\n"
     ]
    },
    {
     "data": {
      "text/plain": [
       "[0.31089353115081786, 0.87224]"
      ]
     },
     "execution_count": 104,
     "metadata": {},
     "output_type": "execute_result"
    }
   ],
   "source": [
    "results = model.evaluate(test_data, test_label)\n",
    "results"
   ]
  },
  {
   "cell_type": "code",
   "execution_count": 105,
   "metadata": {},
   "outputs": [
    {
     "data": {
      "text/plain": [
       "dict_keys(['val_loss', 'val_acc', 'loss', 'acc'])"
      ]
     },
     "execution_count": 105,
     "metadata": {},
     "output_type": "execute_result"
    }
   ],
   "source": [
    "history_dict = history.history\n",
    "history_dict.keys()"
   ]
  },
  {
   "cell_type": "code",
   "execution_count": 106,
   "metadata": {},
   "outputs": [],
   "source": [
    "import matplotlib.pyplot as plt\n",
    "acc = history_dict['acc']\n",
    "val_acc = history_dict['val_acc']\n",
    "loss = history_dict['loss']\n",
    "val_loss = history_dict['val_loss']"
   ]
  },
  {
   "cell_type": "code",
   "execution_count": 107,
   "metadata": {},
   "outputs": [
    {
     "data": {
      "image/png": "[encoded data removed]",
      "text/plain": [
       "<Figure size 1080x360 with 2 Axes>"
      ]
     },
     "metadata": {},
     "output_type": "display_data"
    }
   ],
   "source": [
    "epochs = range(1, len(acc) + 1)\n",
    "plt.figure(figsize=(15,5))\n",
    "plt.subplot(1, 2, 1)\n",
    "plt.plot(epochs, acc, 'b', label='training acc')\n",
    "plt.plot(epochs, val_acc, 'r', label='validation acc')\n",
    "plt.title('Training and validation accuracy')\n",
    "plt.xlabel('Epochs')\n",
    "plt.ylabel('Accuracy')\n",
    "plt.legend()\n",
    "\n",
    "plt.subplot(1, 2, 2)\n",
    "plt.plot(epochs, loss, 'b', label='training loss')\n",
    "plt.plot(epochs, val_loss, 'r', label='validation loss')\n",
    "plt.title('Training and validation losses')\n",
    "plt.xlabel('Epochs')\n",
    "plt.ylabel('Loss')\n",
    "plt.legend()\n",
    "\n",
    "plt.show()"
   ]
  }
 ],
 "metadata": {
  "kernelspec": {
   "display_name": "Python 3",
   "language": "python",
   "name": "python3"
  },
  "language_info": {
   "codemirror_mode": {
    "name": "ipython",
    "version": 3
   },
   "file_extension": ".py",
   "mimetype": "text/x-python",
   "name": "python",
   "nbconvert_exporter": "python",
   "pygments_lexer": "ipython3",
   "version": "3.6.6"
  }
 },
 "nbformat": 4,
 "nbformat_minor": 2
}
